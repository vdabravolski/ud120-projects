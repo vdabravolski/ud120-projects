{
 "cells": [
  {
   "cell_type": "code",
   "execution_count": 27,
   "metadata": {
    "collapsed": false
   },
   "outputs": [],
   "source": [
    "import numpy as np\n",
    "import pandas as pd\n",
    "from matplotlib import pyplot as plt\n",
    "import pickle\n",
    "\n",
    "import sys\n",
    "sys.path.append('datasets_questions')\n",
    "sys.path.append('final_project')\n",
    "sys.path.append('tools')\n",
    "\n",
    "import explore_enron_data\n",
    "import poi_email_addresses\n",
    "import feature_format"
   ]
  },
  {
   "cell_type": "markdown",
   "metadata": {},
   "source": [
    "# Answers on the Audacity questions"
   ]
  },
  {
   "cell_type": "code",
   "execution_count": 2,
   "metadata": {
    "collapsed": false
   },
   "outputs": [],
   "source": [
    "# get the origianl data\n",
    "enron_data=explore_enron_data.enron_data"
   ]
  },
  {
   "cell_type": "code",
   "execution_count": 15,
   "metadata": {
    "collapsed": false
   },
   "outputs": [
    {
     "name": "stdout",
     "output_type": "stream",
     "text": [
      "number of people in the dataset 146\n"
     ]
    }
   ],
   "source": [
    "print (\"number of people in the dataset \"+str(len(enron_data)))"
   ]
  },
  {
   "cell_type": "code",
   "execution_count": 90,
   "metadata": {
    "collapsed": false
   },
   "outputs": [
    {
     "data": {
      "text/plain": [
       "21"
      ]
     },
     "execution_count": 90,
     "metadata": {},
     "output_type": "execute_result"
    }
   ],
   "source": [
    "#number of features for each person\n",
    "len(enron_data.items()[0][1])"
   ]
  },
  {
   "cell_type": "code",
   "execution_count": 91,
   "metadata": {
    "collapsed": false
   },
   "outputs": [
    {
     "data": {
      "text/plain": [
       "('METTS MARK',\n",
       " {'bonus': 600000,\n",
       "  'deferral_payments': 'NaN',\n",
       "  'deferred_income': 'NaN',\n",
       "  'director_fees': 'NaN',\n",
       "  'email_address': 'mark.metts@enron.com',\n",
       "  'exercised_stock_options': 'NaN',\n",
       "  'expenses': 94299,\n",
       "  'from_messages': 29,\n",
       "  'from_poi_to_this_person': 38,\n",
       "  'from_this_person_to_poi': 1,\n",
       "  'loan_advances': 'NaN',\n",
       "  'long_term_incentive': 'NaN',\n",
       "  'other': 1740,\n",
       "  'poi': False,\n",
       "  'restricted_stock': 585062,\n",
       "  'restricted_stock_deferred': 'NaN',\n",
       "  'salary': 365788,\n",
       "  'shared_receipt_with_poi': 702,\n",
       "  'to_messages': 807,\n",
       "  'total_payments': 1061827,\n",
       "  'total_stock_value': 585062})"
      ]
     },
     "execution_count": 91,
     "metadata": {},
     "output_type": "execute_result"
    }
   ],
   "source": [
    "#Sample of features\n",
    "enron_data.items()[0]"
   ]
  },
  {
   "cell_type": "code",
   "execution_count": 28,
   "metadata": {
    "collapsed": false
   },
   "outputs": [
    {
     "name": "stdout",
     "output_type": "stream",
     "text": [
      "18\n"
     ]
    }
   ],
   "source": [
    "# Number of Persons of Interest in the dataset\n",
    "k=0\n",
    "\n",
    "for key,value in enron_data.iteritems():\n",
    "    if value['poi']==True:\n",
    "        k+=1\n",
    "print(k)        "
   ]
  },
  {
   "cell_type": "code",
   "execution_count": 35,
   "metadata": {
    "collapsed": false
   },
   "outputs": [
    {
     "name": "stdout",
     "output_type": "stream",
     "text": [
      "kenneth_lay@enron.net\n"
     ]
    }
   ],
   "source": [
    "\n",
    "\n",
    "#../final_project/poi_email_addresses.py\n",
    "poi_emails=poi_email_addresses.poiEmails()\n",
    "print(poi_emails[0])"
   ]
  },
  {
   "cell_type": "code",
   "execution_count": 69,
   "metadata": {
    "collapsed": false
   },
   "outputs": [
    {
     "name": "stdout",
     "output_type": "stream",
     "text": [
      "34\n"
     ]
    }
   ],
   "source": [
    "# ../final_project/poi_names.txt\n",
    "\n",
    "poi_names=pd.read_csv('final_project/poi_names.txt', skiprows=1, names=['last','first'], header=0) \n",
    "poi_names['poi']=poi_names['first']+poi_names['last']\n",
    "poi_names=poi_names['poi']\n",
    "\n",
    "print(poi_names.size)\n"
   ]
  },
  {
   "cell_type": "code",
   "execution_count": 82,
   "metadata": {
    "collapsed": false
   },
   "outputs": [
    {
     "name": "stdout",
     "output_type": "stream",
     "text": [
      "1095040\n"
     ]
    }
   ],
   "source": [
    "#What is the total value of the stock belonging to James Prentice?\n",
    "for key,value in enron_data.iteritems():\n",
    "    if 'prentice' in key.lower():\n",
    "        print(str(int(value['exercised_stock_options'])+int(value['restricted_stock'])))"
   ]
  },
  {
   "cell_type": "code",
   "execution_count": 92,
   "metadata": {
    "collapsed": false
   },
   "outputs": [
    {
     "name": "stdout",
     "output_type": "stream",
     "text": [
      "{'salary': 288542, 'to_messages': 1758, 'deferral_payments': 27610, 'total_payments': 1490344, 'exercised_stock_options': 'NaN', 'bonus': 1200000, 'restricted_stock': 698242, 'shared_receipt_with_poi': 1132, 'restricted_stock_deferred': 'NaN', 'total_stock_value': 698242, 'expenses': 16514, 'loan_advances': 'NaN', 'from_messages': 40, 'other': 101740, 'from_this_person_to_poi': 11, 'poi': True, 'director_fees': 'NaN', 'deferred_income': -144062, 'long_term_incentive': 'NaN', 'email_address': 'wes.colwell@enron.com', 'from_poi_to_this_person': 240}\n"
     ]
    }
   ],
   "source": [
    "for key,value in enron_data.iteritems():\n",
    "    if 'colwell' in key.lower():\n",
    "        print(value)"
   ]
  },
  {
   "cell_type": "code",
   "execution_count": 93,
   "metadata": {
    "collapsed": false
   },
   "outputs": [
    {
     "name": "stdout",
     "output_type": "stream",
     "text": [
      "19250000\n"
     ]
    }
   ],
   "source": [
    "for key,value in enron_data.iteritems():\n",
    "    if 'skilling' in key.lower():\n",
    "        print(str(int(value['exercised_stock_options'])))"
   ]
  },
  {
   "cell_type": "code",
   "execution_count": 94,
   "metadata": {
    "collapsed": false
   },
   "outputs": [
    {
     "name": "stdout",
     "output_type": "stream",
     "text": [
      "103559793\n",
      "LAY KENNETH L\n",
      "2424083\n",
      "FASTOW ANDREW S\n",
      "8682716\n",
      "SKILLING JEFFREY K\n"
     ]
    }
   ],
   "source": [
    "# Who took most of the money between Lay, Skilling and Fastow\n",
    "for key,value in enron_data.iteritems():\n",
    "    if ('skilling' in key.lower()) or ('fastow' in key.lower()) or (\"lay\" in key.lower()):\n",
    "        print(str(int(value['total_payments'])))\n",
    "        print(key)"
   ]
  },
  {
   "cell_type": "code",
   "execution_count": 109,
   "metadata": {
    "collapsed": false
   },
   "outputs": [
    {
     "name": "stdout",
     "output_type": "stream",
     "text": [
      "111\n",
      "95\n"
     ]
    }
   ],
   "source": [
    "# How many has defined salary and email\n",
    "emails=[]\n",
    "salaries=[]\n",
    "\n",
    "for key,value in enron_data.iteritems():\n",
    "    if value['salary']!='NaN':\n",
    "        emails.append(key.lower()) \n",
    "    if value['email_address']!='NaN':\n",
    "        salaries.append(key.lower())\n",
    "    \n",
    "print(len(list(set(salaries))))\n",
    "print(len(list(set(emails))))"
   ]
  },
  {
   "cell_type": "code",
   "execution_count": 102,
   "metadata": {
    "collapsed": false
   },
   "outputs": [
    {
     "data": {
      "text/plain": [
       "'true'"
      ]
     },
     "execution_count": 102,
     "metadata": {},
     "output_type": "execute_result"
    }
   ],
   "source": [
    "'true' if True else 'false'"
   ]
  },
  {
   "cell_type": "markdown",
   "metadata": {
    "collapsed": true
   },
   "source": [
    "# Second half of the exercise"
   ]
  },
  {
   "cell_type": "code",
   "execution_count": 10,
   "metadata": {
    "collapsed": false
   },
   "outputs": [
    {
     "name": "stdout",
     "output_type": "stream",
     "text": [
      "1.0\n",
      "[  243293.  1500000.]\n",
      "('CORDES WILLIAM R', {'salary': 'NaN', 'to_messages': 764, 'deferral_payments': 'NaN', 'total_payments': 'NaN', 'exercised_stock_options': 651850, 'bonus': 'NaN', 'restricted_stock': 386335, 'shared_receipt_with_poi': 58, 'restricted_stock_deferred': 'NaN', 'total_stock_value': 1038185, 'expenses': 'NaN', 'loan_advances': 'NaN', 'from_messages': 12, 'other': 'NaN', 'from_this_person_to_poi': 0, 'poi': False, 'director_fees': 'NaN', 'deferred_income': 'NaN', 'long_term_incentive': 'NaN', 'email_address': 'bill.cordes@enron.com', 'from_poi_to_this_person': 10})\n"
     ]
    }
   ],
   "source": [
    "# covert dictionary into Numpy array for further training.\n",
    "\n",
    "# example below\n",
    "feature_list = [\"poi\", \"salary\", \"bonus\"] \n",
    "data_array = feature_format.featureFormat( enron_data, feature_list )\n",
    "label, features = feature_format.targetFeatureSplit(data_array)\n",
    "\n",
    "print(label[0]) # contains binary for 'poi'  \n",
    "print(features[0]) # has \"salary\" and \"bonus\""
   ]
  },
  {
   "cell_type": "code",
   "execution_count": 25,
   "metadata": {
    "collapsed": false
   },
   "outputs": [
    {
     "name": "stdout",
     "output_type": "stream",
     "text": [
      "21\n"
     ]
    }
   ],
   "source": [
    "# get the number of people with unavailable number of total payments\n",
    "feature_list = [\"poi\", \"total_payments\"] \n",
    "data_array = feature_format.featureFormat( enron_data, feature_list, remove_all_zeroes=False)\n",
    "label, features = feature_format.targetFeatureSplit(data_array)\n",
    "\n",
    "#print(features)\n",
    "counter=0\n",
    "for i, val in enumerate(features):\n",
    "    if val[0]==0:\n",
    "        counter+=1\n",
    "        \n",
    "print(counter)\n",
    "\n",
    "    "
   ]
  },
  {
   "cell_type": "code",
   "execution_count": null,
   "metadata": {
    "collapsed": true
   },
   "outputs": [],
   "source": [
    "# how many POIs have missing total payments\n",
    "\n",
    "feature_list = [\"poi\", \"total_payments\"] \n",
    "data_array = feature_format.featureFormat( enron_data, feature_list, remove_all_zeroes=False)\n",
    "label, features = feature_format.targetFeatureSplit(data_array)\n",
    "\n",
    "#print(features)\n",
    "counter=0\n",
    "for i, val in enumerate(features):\n",
    "    if val[0]==0:\n",
    "        counter+=1"
   ]
  },
  {
   "cell_type": "code",
   "execution_count": 48,
   "metadata": {
    "collapsed": false
   },
   "outputs": [],
   "source": [
    "enron_data = pickle.load(open(\"final_project/final_project_dataset.pkl\", \"rb\"))\n",
    "df = pd.DataFrame(enron_data)\n",
    "#df['name']=df.index"
   ]
  },
  {
   "cell_type": "code",
   "execution_count": 74,
   "metadata": {
    "collapsed": false
   },
   "outputs": [
    {
     "data": {
      "text/plain": [
       "False    146\n",
       "dtype: int64"
      ]
     },
     "execution_count": 74,
     "metadata": {},
     "output_type": "execute_result"
    }
   ],
   "source": [
    "nans=df.loc['total_payments']=='NaN'\n",
    "pois=df.loc['poi']==True\n",
    "(nans & pois).value_counts()"
   ]
  },
  {
   "cell_type": "code",
   "execution_count": null,
   "metadata": {
    "collapsed": true
   },
   "outputs": [],
   "source": []
  }
 ],
 "metadata": {
  "anaconda-cloud": {},
  "kernelspec": {
   "display_name": "Python [conda root]",
   "language": "python",
   "name": "conda-root-py"
  },
  "language_info": {
   "codemirror_mode": {
    "name": "ipython",
    "version": 2
   },
   "file_extension": ".py",
   "mimetype": "text/x-python",
   "name": "python",
   "nbconvert_exporter": "python",
   "pygments_lexer": "ipython2",
   "version": "2.7.12"
  }
 },
 "nbformat": 4,
 "nbformat_minor": 1
}
